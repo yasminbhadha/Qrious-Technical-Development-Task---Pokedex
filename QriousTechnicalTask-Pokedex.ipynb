{
 "cells": [
  {
   "cell_type": "markdown",
   "metadata": {},
   "source": [
    "# Qrious Technical Development Task\n",
    "\n",
    "## Pokedex using PokeAPI:"
   ]
  },
  {
   "cell_type": "code",
   "execution_count": 1,
   "metadata": {},
   "outputs": [],
   "source": [
    "import sys\n",
    "\n",
    "import numpy as np\n",
    "import pandas as pd\n",
    "import requests"
   ]
  },
  {
   "cell_type": "code",
   "execution_count": 17,
   "metadata": {},
   "outputs": [
    {
     "name": "stdout",
     "output_type": "stream",
     "text": [
      "200\n",
      "ditto\n",
      "40\n",
      "3\n",
      "101\n",
      "[{'ability': {'name': 'limber', 'url': 'https://pokeapi.co/api/v2/ability/7/'}, 'is_hidden': False, 'slot': 1}, {'ability': {'name': 'imposter', 'url': 'https://pokeapi.co/api/v2/ability/150/'}, 'is_hidden': True, 'slot': 3}]\n",
      "limber\n",
      "imposter\n",
      "response is:  <Response [200]>\n",
      "name is:  ivysaur\n"
     ]
    },
    {
     "data": {
      "text/plain": [
       "'\\nfor i in range(1, 152):\\n    print(\"in this loop\")\\n    response = requests.get(f\\'https://pokeapi.co/api/v2/pokemon/{i}\\')\\n    response_json = response.json()\\n    pokemon.append({\\n        \\'name\\': response_json[\\'name\\'],\\n        \\'weight\\': response_json[\\'weight\\'],\\n        \\'height\\': response_json[\\'height\\'],\\n        \\'base_experience\\': response_json[\\'base_experience\\'],\\n        \\'ability1\\': response_json[\\'abilities\\'][0][\\'ability\\'][\\'name\\'],\\n        \\'ability2\\': response_json[\\'abilities\\'][1][\\'ability\\'][\\'name\\']\\n    })\\n\\n#print(\"pokemon element 1: \", pokemon[0])\\n'"
      ]
     },
     "execution_count": 17,
     "metadata": {},
     "output_type": "execute_result"
    }
   ],
   "source": [
    "response = requests.get('https://pokeapi.co/api/v2/pokemon/ditto')\n",
    "\n",
    "# Checking if connection successful or not. 200 means successful. \n",
    "print(response.status_code)\n",
    "\n",
    "# want to print data received from APi:\n",
    "response_json = response.json()\n",
    "\n",
    "#print(response_json)\n",
    "\n",
    "# Extracting data from json\n",
    "print(response_json['name'])\n",
    "print(response_json['weight'])\n",
    "print(response_json['height'])\n",
    "print(response_json['base_experience'])\n",
    "\n",
    "# Extracting data from nested json\n",
    "print(response_json['abilities'])\n",
    "print(response_json['abilities'][0]['ability']['name'])\n",
    "print(response_json['abilities'][1]['ability']['name'])\n",
    "\n",
    "# Extract data from first 151 pokemon:\n",
    "\n",
    "# Initialize emoty array to store pokemon names:\n",
    "pokemon_names = []\n",
    "\n",
    "number_pokemon_names = 151\n",
    "\n",
    "response = requests.get(f'https://pokeapi.co/api/v2/pokemon/{2}')\n",
    "name = response.json()['name']\n",
    "\n",
    "print(\"response is: \", response)\n",
    "print(\"name is: \", name)\n",
    "\n",
    "\n",
    "\n",
    "# Extract all pokemon names and append to pokemon_names array:\n",
    "for i in range(1, 152):\n",
    "    response = requests.get(f'https://pokeapi.co/api/v2/pokemon/{i}')\n",
    "    response_json = response.json()\n",
    "    pokemon_names.append(response_json['name'])\n",
    " \n",
    "#check for loop accuracy: \n",
    "print(\"2nd pokemon name from loop: \", pokemon_names[1]) # should print ivysaur  \n",
    "\n",
    "\"\"\"\n",
    "for i in range(1, 152):\n",
    "    print(\"in this loop\")\n",
    "    response = requests.get(f'https://pokeapi.co/api/v2/pokemon/{i}')\n",
    "    response_json = response.json()\n",
    "    pokemon.append({\n",
    "        'name': response_json['name'],\n",
    "        'weight': response_json['weight'],\n",
    "        'height': response_json['height'],\n",
    "        'base_experience': response_json['base_experience'],\n",
    "        'ability1': response_json['abilities'][0]['ability']['name'],\n",
    "        'ability2': response_json['abilities'][1]['ability']['name']\n",
    "    })\n",
    "\n",
    "#print(\"pokemon element 1: \", pokemon[0])\n",
    "\"\"\""
   ]
  },
  {
   "cell_type": "code",
   "execution_count": null,
   "metadata": {},
   "outputs": [],
   "source": []
  }
 ],
 "metadata": {
  "kernelspec": {
   "display_name": "base",
   "language": "python",
   "name": "python3"
  },
  "language_info": {
   "codemirror_mode": {
    "name": "ipython",
    "version": 3
   },
   "file_extension": ".py",
   "mimetype": "text/x-python",
   "name": "python",
   "nbconvert_exporter": "python",
   "pygments_lexer": "ipython3",
   "version": "3.12.4"
  }
 },
 "nbformat": 4,
 "nbformat_minor": 2
}
