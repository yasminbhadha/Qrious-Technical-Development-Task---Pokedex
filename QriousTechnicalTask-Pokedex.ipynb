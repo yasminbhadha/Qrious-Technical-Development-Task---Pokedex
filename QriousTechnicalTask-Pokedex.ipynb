{
 "cells": [
  {
   "cell_type": "markdown",
   "metadata": {},
   "source": [
    "# Qrious Technical Development Task\n",
    "\n",
    "## Pokedex using PokeAPI:"
   ]
  },
  {
   "cell_type": "code",
   "execution_count": 57,
   "metadata": {},
   "outputs": [],
   "source": [
    "import sys\n",
    "\n",
    "import numpy as np\n",
    "import pandas as pd\n",
    "import requests"
   ]
  },
  {
   "cell_type": "code",
   "execution_count": 58,
   "metadata": {},
   "outputs": [
    {
     "name": "stdout",
     "output_type": "stream",
     "text": [
      "200\n",
      "ditto\n",
      "40\n",
      "3\n",
      "101\n",
      "[{'ability': {'name': 'limber', 'url': 'https://pokeapi.co/api/v2/ability/7/'}, 'is_hidden': False, 'slot': 1}, {'ability': {'name': 'imposter', 'url': 'https://pokeapi.co/api/v2/ability/150/'}, 'is_hidden': True, 'slot': 3}]\n",
      "limber\n",
      "imposter\n",
      "response is:  <Response [200]>\n",
      "name is:  ivysaur\n",
      "2nd pokemon name from loop:  ivysaur\n"
     ]
    }
   ],
   "source": [
    "response = requests.get('https://pokeapi.co/api/v2/pokemon/ditto')\n",
    "\n",
    "# Checking if connection successful or not. 200 means successful. \n",
    "print(response.status_code)\n",
    "\n",
    "# want to print data received from APi:\n",
    "response_json = response.json()\n",
    "\n",
    "#print(response_json)\n",
    "\n",
    "# Extracting data from json\n",
    "print(response_json['name'])\n",
    "print(response_json['weight'])\n",
    "print(response_json['height'])\n",
    "print(response_json['base_experience'])\n",
    "\n",
    "# Extracting data from nested json\n",
    "print(response_json['abilities'])\n",
    "print(response_json['abilities'][0]['ability']['name'])\n",
    "print(response_json['abilities'][1]['ability']['name'])\n",
    "\n",
    "# Extract data from first 151 pokemon:\n",
    "\n",
    "# Initialize emoty array to store pokemon names:\n",
    "pokemon_names = []\n",
    "\n",
    "number_pokemon_names = 151\n",
    "\n",
    "response = requests.get(f'https://pokeapi.co/api/v2/pokemon/{2}')\n",
    "name = response.json()['name']\n",
    "\n",
    "print(\"response is: \", response)\n",
    "print(\"name is: \", name)\n",
    "\n",
    "\n",
    "\n",
    "# Extract all pokemon names and append to pokemon_names array:\n",
    "for i in range(1, 152):\n",
    "    response = requests.get(f'https://pokeapi.co/api/v2/pokemon/{i}')\n",
    "    response_json = response.json()\n",
    "    pokemon_names.append(response_json['name'])\n",
    " \n",
    "#check for loop accuracy: \n",
    "print(\"2nd pokemon name from loop: \", pokemon_names[1]) # should print ivysaur  \n",
    "\n"
   ]
  },
  {
   "cell_type": "code",
   "execution_count": 59,
   "metadata": {},
   "outputs": [
    {
     "name": "stdout",
     "output_type": "stream",
     "text": [
      "2nd pokemon number from loop:  2\n",
      "number is:  2\n"
     ]
    }
   ],
   "source": [
    "# Extract all pokemon Number (id column in JSON) and append to pokemon_numbers array:\n",
    "pokemon_numbers = []\n",
    "for i in range(1, 152):\n",
    "    response = requests.get(f'https://pokeapi.co/api/v2/pokemon/{i}')\n",
    "    response_json = response.json()\n",
    "    pokemon_numbers.append(response_json['id'])\n",
    "    \n",
    "#check for loop accuracy:\n",
    "print(\"2nd pokemon number from loop: \", pokemon_numbers[1]) # should print 2\n",
    "\n",
    "response = requests.get(f'https://pokeapi.co/api/v2/pokemon/{2}')\n",
    "number = response.json()['id']\n",
    "\n",
    "print(\"number is: \", number) # should print 2"
   ]
  },
  {
   "cell_type": "code",
   "execution_count": 60,
   "metadata": {},
   "outputs": [
    {
     "name": "stdout",
     "output_type": "stream",
     "text": [
      "2nd pokemon weight from loop:  345\n",
      "weight is:  345\n"
     ]
    }
   ],
   "source": [
    "# Extract all pokemon weights and append to pokemon_weights array:\n",
    "pokemon_weights = []\n",
    "for i in range(1, 152):\n",
    "    response = requests.get(f'https://pokeapi.co/api/v2/pokemon/{i}')\n",
    "    response_json = response.json()\n",
    "    pokemon_weights.append(response_json['weight'])\n",
    "\n",
    "#check for loop accuracy:\n",
    "print(\"2nd pokemon weight from loop: \", pokemon_weights[119]) # should print 345\n",
    "\n",
    "response = requests.get(f'https://pokeapi.co/api/v2/pokemon/{120}')\n",
    "weight = response.json()['weight']\n",
    "print(\"weight is: \", weight) # should print 345"
   ]
  },
  {
   "cell_type": "code",
   "execution_count": 61,
   "metadata": {},
   "outputs": [
    {
     "name": "stdout",
     "output_type": "stream",
     "text": [
      "2nd pokemon height from loop:  15\n",
      "height is:  15\n"
     ]
    }
   ],
   "source": [
    "# Extract all pokemon heights and append to pokemon_heights array:\n",
    "pokemon_heights = []\n",
    "for i in range(1, 152):\n",
    "    response = requests.get(f'https://pokeapi.co/api/v2/pokemon/{i}')\n",
    "    response_json = response.json()\n",
    "    pokemon_heights.append(response_json['height'])\n",
    "\n",
    "#check for loop accuracy:\n",
    "print(\"2nd pokemon height from loop: \", pokemon_heights[90]) # should print 15\n",
    "\n",
    "response = requests.get(f'https://pokeapi.co/api/v2/pokemon/{91}')\n",
    "height = response.json()['height']\n",
    "print(\"height is: \", height) # should print 15"
   ]
  },
  {
   "cell_type": "code",
   "execution_count": 62,
   "metadata": {},
   "outputs": [
    {
     "name": "stdout",
     "output_type": "stream",
     "text": [
      "2nd pokemon base experience from loop:  184\n",
      "base experience is:  184\n"
     ]
    }
   ],
   "source": [
    "# Extract all pokemon base experiences and append to pokemon_base_experiences array:\n",
    "pokemon_base_experiences = []\n",
    "for i in range(1, 152):\n",
    "    response = requests.get(f'https://pokeapi.co/api/v2/pokemon/{i}')\n",
    "    response_json = response.json()\n",
    "    pokemon_base_experiences.append(response_json['base_experience'])\n",
    "    \n",
    "#check for loop accuracy:\n",
    "print(\"2nd pokemon base experience from loop: \", pokemon_base_experiences[90]) # should print 184\n",
    "\n",
    "response = requests.get(f'https://pokeapi.co/api/v2/pokemon/{91}')\n",
    "base_experience = response.json()['base_experience']\n",
    "print(\"base experience is: \", base_experience) # should print 184"
   ]
  },
  {
   "cell_type": "code",
   "execution_count": 63,
   "metadata": {},
   "outputs": [
    {
     "name": "stdout",
     "output_type": "stream",
     "text": [
      "2nd pokemon ability from loop:  stench\n",
      "ability is:  stench\n"
     ]
    }
   ],
   "source": [
    "# Extract all pokemon abilities and append to pokemon_abilities array:\n",
    "pokemon_abilities = []\n",
    "for i in range(1, 152):\n",
    "    response = requests.get(f'https://pokeapi.co/api/v2/pokemon/{i}')\n",
    "    response_json = response.json()\n",
    "    pokemon_abilities.append(response_json['abilities'][0]['ability']['name'])\n",
    "\n",
    "#check for loop accuracy:\n",
    "print(\"2nd pokemon ability from loop: \", pokemon_abilities[88]) # should print stench\n",
    "\n",
    "response = requests.get(f'https://pokeapi.co/api/v2/pokemon/{89}')\n",
    "ability = response.json()['abilities'][0]['ability']['name']\n",
    "print(\"ability is: \", ability) # should print stench\n"
   ]
  },
  {
   "cell_type": "code",
   "execution_count": 64,
   "metadata": {},
   "outputs": [
    {
     "name": "stdout",
     "output_type": "stream",
     "text": [
      "2nd pokemon name and number from loop:  ivysaur 2\n",
      "<class 'str'>\n"
     ]
    }
   ],
   "source": [
    "# create new feature of string w combined position name and number: \n",
    "pokemon_names_numbers = []\n",
    "\n",
    "for i in range(0, 151):\n",
    "    pokemon_names_numbers.append(pokemon_names[i] + \" \" + str(pokemon_numbers[i]))\n",
    "\n",
    "#check for loop accuracy:\n",
    "print(\"2nd pokemon name and number from loop: \", pokemon_names_numbers[1]) # should print ivysaur 2\n",
    "print(type(pokemon_names_numbers[1])) # should print <class 'str'>"
   ]
  },
  {
   "cell_type": "code",
   "execution_count": 65,
   "metadata": {},
   "outputs": [
    {
     "name": "stdout",
     "output_type": "stream",
     "text": [
      "Weight of Bulbasaur is:  69\n"
     ]
    }
   ],
   "source": [
    "# organise extracted data to a pandas dataframe:\n",
    "pokemon_df = pd.DataFrame({\n",
    "    'Number': pokemon_numbers,\n",
    "    'Name': pokemon_names,\n",
    "    'Weight': pokemon_weights,\n",
    "    'Height': pokemon_heights,\n",
    "    'Base Experience': pokemon_base_experiences,\n",
    "    'Ability': pokemon_abilities,\n",
    "    'NameNumber' : pokemon_names_numbers\n",
    "})\n",
    "\n",
    "# reorganise data so can access pokemon details by name:\n",
    "pokemon_df_name = pokemon_df.set_index('NameNumber')\n",
    "\n",
    "\"\"\"\n",
    "# check by accessing a pokemon by name, get its weight:\n",
    "print(\"Weight of Bulbasaur is: \", pokemon_df_name.loc['bulbasaur']['Weight']) # should print 69\n",
    "print(\"Weight of Dratini is: \", pokemon_df_name.loc['dratini']['Weight']) # should print 33\n",
    "print(\"Weight of Bulbasaur is: \", pokemon_df_number.loc[1]['Weight']) # should print 69\n",
    "print(\"Weight of Dratini is: \", pokemon_df_number.loc[147]['Weight']) # should print 33\n",
    "\"\"\"\n",
    "# check by accessing a pokemon by name and number, get its weight: \n",
    "print(\"Weight of Bulbasaur is: \", pokemon_df_name.loc['bulbasaur 1']['Weight']) # should print 69"
   ]
  },
  {
   "cell_type": "code",
   "execution_count": 66,
   "metadata": {},
   "outputs": [],
   "source": [
    "# function to filter list of pokemon using a string, which matches on pokemon name and number:\n",
    "def filter_pokemon(pokemon_df, filter_string):\n",
    "    return pokemon_df[pokemon_df['NameNumber'].str.contains(filter_string, case=False)]\n",
    "\n"
   ]
  },
  {
   "cell_type": "code",
   "execution_count": 67,
   "metadata": {},
   "outputs": [
    {
     "name": "stdout",
     "output_type": "stream",
     "text": [
      "   Number       Name  Weight  Height  Base Experience   Ability   NameNumber\n",
      "0       1  bulbasaur      69       7               64  overgrow  bulbasaur 1\n",
      "   Number     Name  Weight  Height  Base Experience   Ability NameNumber\n",
      "1       2  ivysaur     130      10              142  overgrow  ivysaur 2\n",
      "    Number     Name  Weight  Height  Base Experience    Ability  NameNumber\n",
      "79      80  slowbro     785      16              172  oblivious  slowbro 80\n"
     ]
    }
   ],
   "source": [
    "# call function to filter pokemon by name and number: \n",
    "filtered_pokemon = filter_pokemon(pokemon_df, 'bulbasaur 1')\n",
    "print(filtered_pokemon)\n",
    "\n",
    "filter_pokemon2 = filter_pokemon(pokemon_df, 'ivysaur 2')\t\n",
    "print(filter_pokemon2)\n",
    "\n",
    "filter_pokemon80 = filter_pokemon(pokemon_df, 'slowbro 80')\n",
    "print(filter_pokemon80)"
   ]
  },
  {
   "cell_type": "code",
   "execution_count": null,
   "metadata": {},
   "outputs": [],
   "source": []
  }
 ],
 "metadata": {
  "kernelspec": {
   "display_name": "base",
   "language": "python",
   "name": "python3"
  },
  "language_info": {
   "codemirror_mode": {
    "name": "ipython",
    "version": 3
   },
   "file_extension": ".py",
   "mimetype": "text/x-python",
   "name": "python",
   "nbconvert_exporter": "python",
   "pygments_lexer": "ipython3",
   "version": "3.12.4"
  }
 },
 "nbformat": 4,
 "nbformat_minor": 2
}
